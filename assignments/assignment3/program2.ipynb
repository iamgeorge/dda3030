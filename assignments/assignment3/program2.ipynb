{
 "cells": [
  {
   "cell_type": "markdown",
   "metadata": {},
   "source": [
    "Import necessary libaries "
   ]
  },
  {
   "cell_type": "code",
   "execution_count": 1,
   "metadata": {},
   "outputs": [],
   "source": [
    "from sklearn.neural_network import MLPClassifier\n",
    "from load_mnist import load_mnist\n",
    "import warnings\n",
    "from sklearn.exceptions import ConvergenceWarning"
   ]
  },
  {
   "cell_type": "markdown",
   "metadata": {},
   "source": [
    "Then, import data"
   ]
  },
  {
   "cell_type": "code",
   "execution_count": 2,
   "metadata": {},
   "outputs": [],
   "source": [
    "path = '/home/george/Course/dda3030/assignments/assignment3/'\n",
    "X_train,X_test,Y_train,Y_test  = load_mnist(path = path, flatten = True, binary_data = False)\n",
    "X_train = X_train / 255.\n",
    "X_test = X_test / 255."
   ]
  },
  {
   "cell_type": "markdown",
   "metadata": {},
   "source": [
    "50 hidden nodes, 1 hidden layer"
   ]
  },
  {
   "cell_type": "code",
   "execution_count": 3,
   "metadata": {},
   "outputs": [
    {
     "name": "stdout",
     "output_type": "stream",
     "text": [
      "Iteration 1, loss = 0.27632631\n",
      "Iteration 2, loss = 0.13175310\n",
      "Iteration 3, loss = 0.10294364\n",
      "Iteration 4, loss = 0.08566180\n",
      "Iteration 5, loss = 0.07573451\n",
      "Iteration 6, loss = 0.06977085\n",
      "Iteration 7, loss = 0.06197316\n",
      "Iteration 8, loss = 0.05558128\n",
      "Training set score: 0.986583\n",
      "Test set score: 0.973200\n"
     ]
    }
   ],
   "source": [
    "mlp = MLPClassifier(\n",
    "    hidden_layer_sizes=(50),\n",
    "    max_iter=8,\n",
    "    alpha=1e-4,\n",
    "    solver=\"sgd\",\n",
    "    verbose=10,\n",
    "    random_state=1,\n",
    "    learning_rate_init=0.2,\n",
    ")\n",
    "with warnings.catch_warnings():\n",
    "    warnings.filterwarnings(\"ignore\", category=ConvergenceWarning, module=\"sklearn\")\n",
    "    mlp.fit(X_train, Y_train)\n",
    "print(\"Training set score: %f\" % mlp.score(X_train, Y_train))\n",
    "print(\"Test set score: %f\" % mlp.score(X_test, Y_test))"
   ]
  },
  {
   "cell_type": "markdown",
   "metadata": {},
   "source": [
    "50*50 hidden nodes, 2 hidden layers"
   ]
  },
  {
   "cell_type": "code",
   "execution_count": 4,
   "metadata": {},
   "outputs": [
    {
     "name": "stdout",
     "output_type": "stream",
     "text": [
      "Iteration 1, loss = 0.28940434\n",
      "Iteration 2, loss = 0.13620271\n",
      "Iteration 3, loss = 0.10425144\n",
      "Iteration 4, loss = 0.09077425\n",
      "Iteration 5, loss = 0.07440693\n",
      "Iteration 6, loss = 0.07228237\n",
      "Iteration 7, loss = 0.06795328\n",
      "Iteration 8, loss = 0.06049565\n",
      "Training set score: 0.980733\n",
      "Test set score: 0.964800\n"
     ]
    }
   ],
   "source": [
    "mlp = MLPClassifier(\n",
    "    hidden_layer_sizes=(50,50),\n",
    "    max_iter=8,\n",
    "    alpha=1e-4,\n",
    "    solver=\"sgd\",\n",
    "    verbose=10,\n",
    "    random_state=1,\n",
    "    learning_rate_init=0.2,\n",
    ")\n",
    "with warnings.catch_warnings():\n",
    "    warnings.filterwarnings(\"ignore\", category=ConvergenceWarning, module=\"sklearn\")\n",
    "    mlp.fit(X_train, Y_train)\n",
    "print(\"Training set score: %f\" % mlp.score(X_train, Y_train))\n",
    "print(\"Test set score: %f\" % mlp.score(X_test, Y_test))"
   ]
  },
  {
   "cell_type": "markdown",
   "metadata": {},
   "source": [
    "50*50*50 hidden nodes, 3 hidden layers"
   ]
  },
  {
   "cell_type": "code",
   "execution_count": 5,
   "metadata": {},
   "outputs": [
    {
     "name": "stdout",
     "output_type": "stream",
     "text": [
      "Iteration 1, loss = 0.53797430\n",
      "Iteration 2, loss = 0.21841739\n",
      "Iteration 3, loss = 0.17934660\n",
      "Iteration 4, loss = 0.15985525\n",
      "Iteration 5, loss = 0.14981610\n",
      "Iteration 6, loss = 0.13432857\n",
      "Iteration 7, loss = 0.12916005\n",
      "Iteration 8, loss = 0.12273854\n",
      "Training set score: 0.969100\n",
      "Test set score: 0.960300\n"
     ]
    }
   ],
   "source": [
    "mlp = MLPClassifier(\n",
    "    hidden_layer_sizes=(50,50,50),\n",
    "    max_iter=8,\n",
    "    alpha=1e-4,\n",
    "    solver=\"sgd\",\n",
    "    verbose=10,\n",
    "    random_state=1,\n",
    "    learning_rate_init=0.2,\n",
    ")\n",
    "with warnings.catch_warnings():\n",
    "    warnings.filterwarnings(\"ignore\", category=ConvergenceWarning, module=\"sklearn\")\n",
    "    mlp.fit(X_train, Y_train)\n",
    "print(\"Training set score: %f\" % mlp.score(X_train, Y_train))\n",
    "print(\"Test set score: %f\" % mlp.score(X_test, Y_test))"
   ]
  },
  {
   "cell_type": "markdown",
   "metadata": {},
   "source": [
    "200 hidden nodes, 1 hidden layers"
   ]
  },
  {
   "cell_type": "code",
   "execution_count": 6,
   "metadata": {},
   "outputs": [
    {
     "name": "stdout",
     "output_type": "stream",
     "text": [
      "Iteration 1, loss = 0.23198056\n",
      "Iteration 2, loss = 0.09144120\n",
      "Iteration 3, loss = 0.06367436\n",
      "Iteration 4, loss = 0.04672774\n",
      "Iteration 5, loss = 0.03416029\n",
      "Iteration 6, loss = 0.02622236\n",
      "Iteration 7, loss = 0.02070387\n",
      "Iteration 8, loss = 0.01483442\n",
      "Training set score: 0.997883\n",
      "Test set score: 0.981600\n"
     ]
    }
   ],
   "source": [
    "mlp = MLPClassifier(\n",
    "    hidden_layer_sizes=(200,),\n",
    "    max_iter=8,\n",
    "    alpha=1e-4,\n",
    "    solver=\"sgd\",\n",
    "    verbose=10,\n",
    "    random_state=1,\n",
    "    learning_rate_init=0.2,\n",
    ")\n",
    "with warnings.catch_warnings():\n",
    "    warnings.filterwarnings(\"ignore\", category=ConvergenceWarning, module=\"sklearn\")\n",
    "    mlp.fit(X_train, Y_train)\n",
    "\n",
    "print(\"Training set score: %f\" % mlp.score(X_train, Y_train))\n",
    "print(\"Test set score: %f\" % mlp.score(X_test, Y_test))\n"
   ]
  },
  {
   "cell_type": "markdown",
   "metadata": {},
   "source": [
    "200*200 hidden nodes, 2 hidden layers\n"
   ]
  },
  {
   "cell_type": "code",
   "execution_count": 7,
   "metadata": {},
   "outputs": [
    {
     "name": "stdout",
     "output_type": "stream",
     "text": [
      "Iteration 1, loss = 0.28570139\n",
      "Iteration 2, loss = 0.09987781\n",
      "Iteration 3, loss = 0.07269827\n",
      "Iteration 4, loss = 0.05649967\n",
      "Iteration 5, loss = 0.04790046\n",
      "Iteration 6, loss = 0.03626637\n",
      "Iteration 7, loss = 0.03320341\n",
      "Iteration 8, loss = 0.02841074\n",
      "Training set score: 0.992367\n",
      "Test set score: 0.975500\n"
     ]
    }
   ],
   "source": [
    "mlp = MLPClassifier(\n",
    "    hidden_layer_sizes=(200,200),\n",
    "    max_iter=8,\n",
    "    alpha=1e-4,\n",
    "    solver=\"sgd\",\n",
    "    verbose=10,\n",
    "    random_state=1,\n",
    "    learning_rate_init=0.2,\n",
    ")\n",
    "with warnings.catch_warnings():\n",
    "    warnings.filterwarnings(\"ignore\", category=ConvergenceWarning, module=\"sklearn\")\n",
    "    mlp.fit(X_train, Y_train)\n",
    "print(\"Training set score: %f\" % mlp.score(X_train, Y_train))\n",
    "print(\"Test set score: %f\" % mlp.score(X_test, Y_test))\n",
    "\n"
   ]
  },
  {
   "cell_type": "markdown",
   "metadata": {},
   "source": [
    "200*200*200 hidden nodes, 3 hidden layers"
   ]
  },
  {
   "cell_type": "code",
   "execution_count": 8,
   "metadata": {},
   "outputs": [
    {
     "name": "stdout",
     "output_type": "stream",
     "text": [
      "Iteration 1, loss = 0.32265825\n",
      "Iteration 2, loss = 0.11044674\n",
      "Iteration 3, loss = 0.08062930\n",
      "Iteration 4, loss = 0.06501121\n",
      "Iteration 5, loss = 0.05264825\n",
      "Iteration 6, loss = 0.04420720\n",
      "Iteration 7, loss = 0.03936383\n",
      "Iteration 8, loss = 0.03002369\n",
      "Training set score: 0.991617\n",
      "Test set score: 0.975300\n"
     ]
    }
   ],
   "source": [
    "mlp = MLPClassifier(\n",
    "    hidden_layer_sizes=(200,200,200),\n",
    "    max_iter=8,\n",
    "    alpha=1e-4,\n",
    "    solver=\"sgd\",\n",
    "    verbose=10,\n",
    "    random_state=1,\n",
    "    learning_rate_init=0.2,\n",
    ")\n",
    "with warnings.catch_warnings():\n",
    "    warnings.filterwarnings(\"ignore\", category=ConvergenceWarning, module=\"sklearn\")\n",
    "    mlp.fit(X_train, Y_train)\n",
    "print(\"Training set score: %f\" % mlp.score(X_train, Y_train))\n",
    "print(\"Test set score: %f\" % mlp.score(X_test, Y_test))"
   ]
  },
  {
   "cell_type": "markdown",
   "metadata": {},
   "source": [
    "784 hidden nodes, 1 hidden layer"
   ]
  },
  {
   "cell_type": "code",
   "execution_count": 9,
   "metadata": {},
   "outputs": [
    {
     "name": "stdout",
     "output_type": "stream",
     "text": [
      "Iteration 1, loss = 0.21299319\n",
      "Iteration 2, loss = 0.07943505\n",
      "Iteration 3, loss = 0.05093322\n",
      "Iteration 4, loss = 0.03502917\n",
      "Iteration 5, loss = 0.02214091\n",
      "Iteration 6, loss = 0.01533084\n",
      "Iteration 7, loss = 0.01017524\n",
      "Iteration 8, loss = 0.00714773\n",
      "Training set score: 0.999200\n",
      "Test set score: 0.981000\n"
     ]
    }
   ],
   "source": [
    "mlp = MLPClassifier(\n",
    "    hidden_layer_sizes=(784),\n",
    "    max_iter=8,\n",
    "    alpha=1e-4,\n",
    "    solver=\"sgd\",\n",
    "    verbose=10,\n",
    "    random_state=1,\n",
    "    learning_rate_init=0.2,\n",
    ")\n",
    "with warnings.catch_warnings():\n",
    "    warnings.filterwarnings(\"ignore\", category=ConvergenceWarning, module=\"sklearn\")\n",
    "    mlp.fit(X_train, Y_train)\n",
    "print(\"Training set score: %f\" % mlp.score(X_train, Y_train))\n",
    "print(\"Test set score: %f\" % mlp.score(X_test, Y_test))"
   ]
  },
  {
   "cell_type": "markdown",
   "metadata": {},
   "source": [
    "784*784 hidden nodes, 2hidden layers"
   ]
  },
  {
   "cell_type": "code",
   "execution_count": 10,
   "metadata": {},
   "outputs": [
    {
     "name": "stdout",
     "output_type": "stream",
     "text": [
      "Iteration 1, loss = 0.22008270\n",
      "Iteration 2, loss = 0.07730894\n",
      "Iteration 3, loss = 0.05030062\n",
      "Iteration 4, loss = 0.03503640\n",
      "Iteration 5, loss = 0.02601509\n",
      "Iteration 6, loss = 0.01936690\n",
      "Iteration 7, loss = 0.01656948\n",
      "Iteration 8, loss = 0.01259282\n",
      "Training set score: 0.995183\n",
      "Test set score: 0.979300\n"
     ]
    }
   ],
   "source": [
    "mlp = MLPClassifier(\n",
    "    hidden_layer_sizes=(784,784),\n",
    "    max_iter=8,\n",
    "    alpha=1e-4,\n",
    "    solver=\"sgd\",\n",
    "    verbose=10,\n",
    "    random_state=1,\n",
    "    learning_rate_init=0.2,\n",
    ")\n",
    "with warnings.catch_warnings():\n",
    "    warnings.filterwarnings(\"ignore\", category=ConvergenceWarning, module=\"sklearn\")\n",
    "    mlp.fit(X_train, Y_train)\n",
    "print(\"Training set score: %f\" % mlp.score(X_train, Y_train))\n",
    "print(\"Test set score: %f\" % mlp.score(X_test, Y_test))"
   ]
  },
  {
   "cell_type": "markdown",
   "metadata": {},
   "source": [
    "784*784*784 hidden nodes, 3 hidden layers"
   ]
  },
  {
   "cell_type": "code",
   "execution_count": 11,
   "metadata": {},
   "outputs": [
    {
     "name": "stdout",
     "output_type": "stream",
     "text": [
      "Iteration 1, loss = 0.44138441\n",
      "Iteration 2, loss = 0.10419428\n",
      "Iteration 3, loss = 0.07465376\n",
      "Iteration 4, loss = 0.05855896\n",
      "Iteration 5, loss = 0.04717188\n",
      "Iteration 6, loss = 0.03816199\n",
      "Iteration 7, loss = 0.03258564\n",
      "Iteration 8, loss = 0.03030751\n",
      "Training set score: 0.989900\n",
      "Test set score: 0.977100\n"
     ]
    }
   ],
   "source": [
    "mlp = MLPClassifier(\n",
    "    hidden_layer_sizes=(784,784,784),\n",
    "    max_iter=8,\n",
    "    alpha=1e-4,\n",
    "    solver=\"sgd\",\n",
    "    verbose=10,\n",
    "    random_state=1,\n",
    "    learning_rate_init=0.2,\n",
    ")\n",
    "with warnings.catch_warnings():\n",
    "    warnings.filterwarnings(\"ignore\", category=ConvergenceWarning, module=\"sklearn\")\n",
    "    mlp.fit(X_train, Y_train)\n",
    "print(\"Training set score: %f\" % mlp.score(X_train, Y_train))\n",
    "print(\"Test set score: %f\" % mlp.score(X_test, Y_test))\n"
   ]
  }
 ],
 "metadata": {
  "kernelspec": {
   "display_name": "Python 3.8.9 64-bit",
   "language": "python",
   "name": "python3"
  },
  "language_info": {
   "codemirror_mode": {
    "name": "ipython",
    "version": 3
   },
   "file_extension": ".py",
   "mimetype": "text/x-python",
   "name": "python",
   "nbconvert_exporter": "python",
   "pygments_lexer": "ipython3",
   "version": "3.10.6"
  },
  "orig_nbformat": 4,
  "vscode": {
   "interpreter": {
    "hash": "31f2aee4e71d21fbe5cf8b01ff0e069b9275f58929596ceb00d14d90e3e16cd6"
   }
  }
 },
 "nbformat": 4,
 "nbformat_minor": 2
}
